{
 "cells": [
  {
   "cell_type": "code",
   "execution_count": 1,
   "metadata": {},
   "outputs": [],
   "source": [
    "import pandas as pd\n",
    "import numpy as np\n",
    "from sklearn.model_selection import train_test_split, GridSearchCV\n",
    "from sklearn.preprocessing import StandardScaler, OneHotEncoder\n",
    "from sklearn.compose import ColumnTransformer\n",
    "from sklearn.linear_model import LinearRegression\n",
    "from sklearn.neighbors import KNeighborsRegressor\n",
    "from sklearn.svm import SVR\n",
    "from sklearn.ensemble import RandomForestRegressor, StackingRegressor, GradientBoostingRegressor\n",
    "from sklearn.tree import DecisionTreeRegressor\n",
    "from sklearn.metrics import mean_squared_error, r2_score\n",
    "import matplotlib.pyplot as plt\n",
    "from sklearn.datasets import make_regression"
   ]
  },
  {
   "cell_type": "code",
   "execution_count": 2,
   "metadata": {},
   "outputs": [
    {
     "name": "stdout",
     "output_type": "stream",
     "text": [
      "           X           Y       Z  Au ppm  DomCode  Oxidation\n",
      "0  636807.86  6850615.21  301.23    0.05        0          1\n",
      "1  636807.57  6850615.63  300.37    0.00        0          1\n",
      "2  636807.28  6850616.05  299.51    0.01        0          1\n",
      "3  636806.99  6850616.47  298.65    0.00        0          1\n",
      "4  636806.71  6850616.90  297.79    0.01        0          1\n",
      "<class 'pandas.core.frame.DataFrame'>\n",
      "RangeIndex: 8109 entries, 0 to 8108\n",
      "Data columns (total 6 columns):\n",
      " #   Column     Non-Null Count  Dtype  \n",
      "---  ------     --------------  -----  \n",
      " 0   X          8109 non-null   float64\n",
      " 1   Y          8109 non-null   float64\n",
      " 2   Z          8109 non-null   float64\n",
      " 3   Au ppm     8109 non-null   float64\n",
      " 4   DomCode    8109 non-null   int64  \n",
      " 5   Oxidation  8109 non-null   int64  \n",
      "dtypes: float64(4), int64(2)\n",
      "memory usage: 380.2 KB\n",
      "None\n",
      "                   X             Y            Z       Au ppm      DomCode  \\\n",
      "count    8109.000000  8.109000e+03  8109.000000  8109.000000  8109.000000   \n",
      "mean   636770.602670  6.850560e+06   239.458235     0.139175     0.770749   \n",
      "std       101.063762  1.253806e+02    60.935001     1.562142     2.752646   \n",
      "min    636464.160000  6.850123e+06   -36.470000     0.000000     0.000000   \n",
      "25%    636715.030000  6.850495e+06   213.990000     0.000000     0.000000   \n",
      "50%    636767.130000  6.850591e+06   257.480000     0.010000     0.000000   \n",
      "75%    636827.240000  6.850639e+06   283.590000     0.040000     0.000000   \n",
      "max    637042.190000  6.850821e+06   352.960000    98.430000    14.000000   \n",
      "\n",
      "         Oxidation  \n",
      "count  8109.000000  \n",
      "mean      2.203724  \n",
      "std       0.895739  \n",
      "min       1.000000  \n",
      "25%       1.000000  \n",
      "50%       3.000000  \n",
      "75%       3.000000  \n",
      "max       3.000000  \n"
     ]
    }
   ],
   "source": [
    "# Define the file path\n",
    "drillholes_file_path = r'C:\\Users\\Ton\\OneDrive\\Desktop\\Data_Institute\\_prj_capstone\\assays_mod.csv'\n",
    "\n",
    "# Load the CSV file into a DataFrame\n",
    "drillholes_df = pd.read_csv(drillholes_file_path)\n",
    "\n",
    "# Columns to exclude\n",
    "exclude_columns = ['X', 'Y', 'Z']\n",
    "\n",
    "# Fill NaN values with 0 in all columns except the excluded ones\n",
    "for column in drillholes_df.columns:\n",
    "    if column not in exclude_columns:\n",
    "        drillholes_df[column].fillna(0, inplace=True)\n",
    "\n",
    "# Display the first few rows of the DataFrame to verify the changes\n",
    "print(drillholes_df.head())\n",
    "print(drillholes_df.info())\n",
    "\n",
    "# Print basic statistics of the DataFrame\n",
    "print(drillholes_df.describe())"
   ]
  },
  {
   "cell_type": "markdown",
   "metadata": {},
   "source": [
    "### Data processing"
   ]
  },
  {
   "cell_type": "code",
   "execution_count": 3,
   "metadata": {},
   "outputs": [],
   "source": [
    "# Define the preprocessing steps for numerical and categorical data\n",
    "numeric_features = ['X', 'Y', 'Z']\n",
    "categorical_features = ['DomCode', 'Oxidation']\n",
    "\n",
    "# Preprocessing for numerical data: scaling\n",
    "numeric_transformer = StandardScaler()\n",
    "\n",
    "# Preprocessing for categorical data: one-hot encoding\n",
    "categorical_transformer = OneHotEncoder()"
   ]
  },
  {
   "cell_type": "code",
   "execution_count": 4,
   "metadata": {},
   "outputs": [],
   "source": [
    "# Select the features and target variable\n",
    "X = drillholes_df[['X', 'Y', 'Z','DomCode','Oxidation']]\n",
    "y = drillholes_df['Au ppm']"
   ]
  },
  {
   "cell_type": "markdown",
   "metadata": {},
   "source": [
    "### Split the data (training/test)"
   ]
  },
  {
   "cell_type": "code",
   "execution_count": 5,
   "metadata": {},
   "outputs": [
    {
     "name": "stdout",
     "output_type": "stream",
     "text": [
      "Baseline Mean Squared Error: 0.85\n",
      "Baseline R² Score: -0.00\n"
     ]
    }
   ],
   "source": [
    "# Stratify the data split\n",
    "y_strat = pd.qcut(y, q=10, labels=False, duplicates='drop')\n",
    "\n",
    "# Split the data into training and testing sets with stratification\n",
    "X_train, X_test, y_train, y_test = train_test_split(X, y, test_size=0.2, random_state=42, stratify=y_strat)\n",
    "\n",
    "# Calculate the mean of the target variable from the training data\n",
    "baseline_mean = y_train.mean()\n",
    "\n",
    "# Predict the mean for all test data points\n",
    "y_pred_baseline = np.full_like(y_test, baseline_mean)\n",
    "\n",
    "# Calculate the Mean Squared Error (MSE) and R² score for the baseline model\n",
    "baseline_mse = mean_squared_error(y_test, y_pred_baseline)\n",
    "baseline_r2 = r2_score(y_test, y_pred_baseline)\n",
    "\n",
    "print(f'Baseline Mean Squared Error: {baseline_mse:.2f}')\n",
    "print(f'Baseline R² Score: {baseline_r2:.2f}')\n",
    "\n",
    "# Combine preprocessing steps\n",
    "preprocessor = ColumnTransformer(\n",
    "    transformers=[\n",
    "        ('num', numeric_transformer, numeric_features),\n",
    "        ('cat', categorical_transformer, categorical_features)\n",
    "    ]\n",
    ")\n",
    "\n",
    "# Apply the preprocessing steps to the training and test sets\n",
    "X_train = preprocessor.fit_transform(X_train)\n",
    "X_test = preprocessor.transform(X_test)"
   ]
  },
  {
   "cell_type": "markdown",
   "metadata": {},
   "source": [
    "### Create the stacking model"
   ]
  },
  {
   "cell_type": "code",
   "execution_count": 6,
   "metadata": {},
   "outputs": [],
   "source": [
    "# Define the base models and their hyperparameters\n",
    "base_models = [\n",
    "    ('lr', LinearRegression()),\n",
    "    ('knn', GridSearchCV(KNeighborsRegressor(), param_grid={'n_neighbors': [20, 40, 60]}, cv=3)),\n",
    "    ('svc', GridSearchCV(SVR(), param_grid={'C': [5, 8, 10], 'kernel': ['linear', 'rbf']}, cv=3)),\n",
    "    ('rf', GridSearchCV(RandomForestRegressor(), param_grid={'n_estimators': [5, 10, 15], 'max_depth': [None, 20, 30, 40]}, cv=3)),\n",
    "    ('dt', GridSearchCV(DecisionTreeRegressor(), param_grid={'max_depth': [None, 1, 2, 3], 'min_samples_split': [5, 10, 15]}, cv=3)),\n",
    "    ('gbm', GridSearchCV(GradientBoostingRegressor(), param_grid={'n_estimators': [50,100,150], 'learning_rate': [0.005, 0.01, 0.015], 'max_depth': [1, 2, 3]}, cv=3))\n",
    "]\n"
   ]
  },
  {
   "cell_type": "code",
   "execution_count": 7,
   "metadata": {},
   "outputs": [
    {
     "name": "stdout",
     "output_type": "stream",
     "text": [
      "lr - Mean Squared Error: 0.78\n",
      "lr - R^2 Score: 0.07\n",
      "knn - Mean Squared Error: 0.73\n",
      "knn - R^2 Score: 0.13\n",
      "Best parameters for knn: {'n_neighbors': 40}\n",
      "\n",
      "svc - Mean Squared Error: 0.78\n",
      "svc - R^2 Score: 0.08\n",
      "Best parameters for svc: {'C': 10, 'kernel': 'rbf'}\n",
      "\n",
      "rf - Mean Squared Error: 1.58\n",
      "rf - R^2 Score: -0.87\n",
      "Best parameters for rf: {'max_depth': 20, 'n_estimators': 5}\n",
      "\n",
      "dt - Mean Squared Error: 0.73\n",
      "dt - R^2 Score: 0.13\n",
      "Best parameters for dt: {'max_depth': 1, 'min_samples_split': 5}\n",
      "\n",
      "gbm - Mean Squared Error: 0.74\n",
      "gbm - R^2 Score: 0.12\n",
      "Best parameters for gbm: {'learning_rate': 0.01, 'max_depth': 1, 'n_estimators': 100}\n",
      "\n"
     ]
    }
   ],
   "source": [
    "# Train and evaluate each base model\n",
    "for name, model in base_models:\n",
    "    model.fit(X_train, y_train)\n",
    "    y_pred = model.predict(X_test)\n",
    "    mse = mean_squared_error(y_test, y_pred)\n",
    "    r2 = r2_score(y_test, y_pred)\n",
    "    \n",
    "    print(f'{name} - Mean Squared Error: {mse:.2f}')\n",
    "    print(f'{name} - R^2 Score: {r2:.2f}')\n",
    "    \n",
    "    if isinstance(model, GridSearchCV):\n",
    "        print(f\"Best parameters for {name}: {model.best_params_}\")\n",
    "        print()  # Add a new line\n"
   ]
  },
  {
   "cell_type": "code",
   "execution_count": 8,
   "metadata": {},
   "outputs": [],
   "source": [
    "# Create the stacking model\n",
    "stacking_model = StackingRegressor(\n",
    "    estimators=base_models,\n",
    "    final_estimator=LinearRegression(),  # You can choose another regressor if needed\n",
    "    cv=3  # 3-fold cross-validation for the stacking model\n",
    ")"
   ]
  },
  {
   "cell_type": "markdown",
   "metadata": {},
   "source": [
    "### Train the stacking model"
   ]
  },
  {
   "cell_type": "code",
   "execution_count": 9,
   "metadata": {},
   "outputs": [
    {
     "data": {
      "text/html": [
       "<style>#sk-container-id-1 {color: black;background-color: white;}#sk-container-id-1 pre{padding: 0;}#sk-container-id-1 div.sk-toggleable {background-color: white;}#sk-container-id-1 label.sk-toggleable__label {cursor: pointer;display: block;width: 100%;margin-bottom: 0;padding: 0.3em;box-sizing: border-box;text-align: center;}#sk-container-id-1 label.sk-toggleable__label-arrow:before {content: \"▸\";float: left;margin-right: 0.25em;color: #696969;}#sk-container-id-1 label.sk-toggleable__label-arrow:hover:before {color: black;}#sk-container-id-1 div.sk-estimator:hover label.sk-toggleable__label-arrow:before {color: black;}#sk-container-id-1 div.sk-toggleable__content {max-height: 0;max-width: 0;overflow: hidden;text-align: left;background-color: #f0f8ff;}#sk-container-id-1 div.sk-toggleable__content pre {margin: 0.2em;color: black;border-radius: 0.25em;background-color: #f0f8ff;}#sk-container-id-1 input.sk-toggleable__control:checked~div.sk-toggleable__content {max-height: 200px;max-width: 100%;overflow: auto;}#sk-container-id-1 input.sk-toggleable__control:checked~label.sk-toggleable__label-arrow:before {content: \"▾\";}#sk-container-id-1 div.sk-estimator input.sk-toggleable__control:checked~label.sk-toggleable__label {background-color: #d4ebff;}#sk-container-id-1 div.sk-label input.sk-toggleable__control:checked~label.sk-toggleable__label {background-color: #d4ebff;}#sk-container-id-1 input.sk-hidden--visually {border: 0;clip: rect(1px 1px 1px 1px);clip: rect(1px, 1px, 1px, 1px);height: 1px;margin: -1px;overflow: hidden;padding: 0;position: absolute;width: 1px;}#sk-container-id-1 div.sk-estimator {font-family: monospace;background-color: #f0f8ff;border: 1px dotted black;border-radius: 0.25em;box-sizing: border-box;margin-bottom: 0.5em;}#sk-container-id-1 div.sk-estimator:hover {background-color: #d4ebff;}#sk-container-id-1 div.sk-parallel-item::after {content: \"\";width: 100%;border-bottom: 1px solid gray;flex-grow: 1;}#sk-container-id-1 div.sk-label:hover label.sk-toggleable__label {background-color: #d4ebff;}#sk-container-id-1 div.sk-serial::before {content: \"\";position: absolute;border-left: 1px solid gray;box-sizing: border-box;top: 0;bottom: 0;left: 50%;z-index: 0;}#sk-container-id-1 div.sk-serial {display: flex;flex-direction: column;align-items: center;background-color: white;padding-right: 0.2em;padding-left: 0.2em;position: relative;}#sk-container-id-1 div.sk-item {position: relative;z-index: 1;}#sk-container-id-1 div.sk-parallel {display: flex;align-items: stretch;justify-content: center;background-color: white;position: relative;}#sk-container-id-1 div.sk-item::before, #sk-container-id-1 div.sk-parallel-item::before {content: \"\";position: absolute;border-left: 1px solid gray;box-sizing: border-box;top: 0;bottom: 0;left: 50%;z-index: -1;}#sk-container-id-1 div.sk-parallel-item {display: flex;flex-direction: column;z-index: 1;position: relative;background-color: white;}#sk-container-id-1 div.sk-parallel-item:first-child::after {align-self: flex-end;width: 50%;}#sk-container-id-1 div.sk-parallel-item:last-child::after {align-self: flex-start;width: 50%;}#sk-container-id-1 div.sk-parallel-item:only-child::after {width: 0;}#sk-container-id-1 div.sk-dashed-wrapped {border: 1px dashed gray;margin: 0 0.4em 0.5em 0.4em;box-sizing: border-box;padding-bottom: 0.4em;background-color: white;}#sk-container-id-1 div.sk-label label {font-family: monospace;font-weight: bold;display: inline-block;line-height: 1.2em;}#sk-container-id-1 div.sk-label-container {text-align: center;}#sk-container-id-1 div.sk-container {/* jupyter's `normalize.less` sets `[hidden] { display: none; }` but bootstrap.min.css set `[hidden] { display: none !important; }` so we also need the `!important` here to be able to override the default hidden behavior on the sphinx rendered scikit-learn.org. See: https://github.com/scikit-learn/scikit-learn/issues/21755 */display: inline-block !important;position: relative;}#sk-container-id-1 div.sk-text-repr-fallback {display: none;}</style><div id=\"sk-container-id-1\" class=\"sk-top-container\"><div class=\"sk-text-repr-fallback\"><pre>StackingRegressor(cv=3,\n",
       "                  estimators=[(&#x27;lr&#x27;, LinearRegression()),\n",
       "                              (&#x27;knn&#x27;,\n",
       "                               GridSearchCV(cv=3,\n",
       "                                            estimator=KNeighborsRegressor(),\n",
       "                                            param_grid={&#x27;n_neighbors&#x27;: [20, 40,\n",
       "                                                                        60]})),\n",
       "                              (&#x27;svc&#x27;,\n",
       "                               GridSearchCV(cv=3, estimator=SVR(),\n",
       "                                            param_grid={&#x27;C&#x27;: [5, 8, 10],\n",
       "                                                        &#x27;kernel&#x27;: [&#x27;linear&#x27;,\n",
       "                                                                   &#x27;rbf&#x27;]})),\n",
       "                              (&#x27;rf&#x27;,\n",
       "                               GridSearchCV(cv=3,\n",
       "                                            estimator=RandomForestRegressor(),\n",
       "                                            param_grid={&#x27;max_depth&#x27;: [None, 20,\n",
       "                                                                      30, 40],\n",
       "                                                        &#x27;n_estimators&#x27;: [5, 10,\n",
       "                                                                         15]})),\n",
       "                              (&#x27;dt&#x27;,\n",
       "                               GridSearchCV(cv=3,\n",
       "                                            estimator=DecisionTreeRegressor(),\n",
       "                                            param_grid={&#x27;max_depth&#x27;: [None, 1,\n",
       "                                                                      2, 3],\n",
       "                                                        &#x27;min_samples_split&#x27;: [5,\n",
       "                                                                              10,\n",
       "                                                                              15]})),\n",
       "                              (&#x27;gbm&#x27;,\n",
       "                               GridSearchCV(cv=3,\n",
       "                                            estimator=GradientBoostingRegressor(),\n",
       "                                            param_grid={&#x27;learning_rate&#x27;: [0.005,\n",
       "                                                                          0.01,\n",
       "                                                                          0.015],\n",
       "                                                        &#x27;max_depth&#x27;: [1, 2, 3],\n",
       "                                                        &#x27;n_estimators&#x27;: [50,\n",
       "                                                                         100,\n",
       "                                                                         150]}))],\n",
       "                  final_estimator=LinearRegression())</pre><b>In a Jupyter environment, please rerun this cell to show the HTML representation or trust the notebook. <br />On GitHub, the HTML representation is unable to render, please try loading this page with nbviewer.org.</b></div><div class=\"sk-container\" hidden><div class=\"sk-item sk-dashed-wrapped\"><div class=\"sk-label-container\"><div class=\"sk-label sk-toggleable\"><input class=\"sk-toggleable__control sk-hidden--visually\" id=\"sk-estimator-id-1\" type=\"checkbox\" ><label for=\"sk-estimator-id-1\" class=\"sk-toggleable__label sk-toggleable__label-arrow\">StackingRegressor</label><div class=\"sk-toggleable__content\"><pre>StackingRegressor(cv=3,\n",
       "                  estimators=[(&#x27;lr&#x27;, LinearRegression()),\n",
       "                              (&#x27;knn&#x27;,\n",
       "                               GridSearchCV(cv=3,\n",
       "                                            estimator=KNeighborsRegressor(),\n",
       "                                            param_grid={&#x27;n_neighbors&#x27;: [20, 40,\n",
       "                                                                        60]})),\n",
       "                              (&#x27;svc&#x27;,\n",
       "                               GridSearchCV(cv=3, estimator=SVR(),\n",
       "                                            param_grid={&#x27;C&#x27;: [5, 8, 10],\n",
       "                                                        &#x27;kernel&#x27;: [&#x27;linear&#x27;,\n",
       "                                                                   &#x27;rbf&#x27;]})),\n",
       "                              (&#x27;rf&#x27;,\n",
       "                               GridSearchCV(cv=3,\n",
       "                                            estimator=RandomForestRegressor(),\n",
       "                                            param_grid={&#x27;max_depth&#x27;: [None, 20,\n",
       "                                                                      30, 40],\n",
       "                                                        &#x27;n_estimators&#x27;: [5, 10,\n",
       "                                                                         15]})),\n",
       "                              (&#x27;dt&#x27;,\n",
       "                               GridSearchCV(cv=3,\n",
       "                                            estimator=DecisionTreeRegressor(),\n",
       "                                            param_grid={&#x27;max_depth&#x27;: [None, 1,\n",
       "                                                                      2, 3],\n",
       "                                                        &#x27;min_samples_split&#x27;: [5,\n",
       "                                                                              10,\n",
       "                                                                              15]})),\n",
       "                              (&#x27;gbm&#x27;,\n",
       "                               GridSearchCV(cv=3,\n",
       "                                            estimator=GradientBoostingRegressor(),\n",
       "                                            param_grid={&#x27;learning_rate&#x27;: [0.005,\n",
       "                                                                          0.01,\n",
       "                                                                          0.015],\n",
       "                                                        &#x27;max_depth&#x27;: [1, 2, 3],\n",
       "                                                        &#x27;n_estimators&#x27;: [50,\n",
       "                                                                         100,\n",
       "                                                                         150]}))],\n",
       "                  final_estimator=LinearRegression())</pre></div></div></div><div class=\"sk-serial\"><div class=\"sk-item\"><div class=\"sk-parallel\"><div class=\"sk-parallel-item\"><div class=\"sk-item\"><div class=\"sk-label-container\"><div class=\"sk-label sk-toggleable\"><label>lr</label></div></div><div class=\"sk-serial\"><div class=\"sk-item\"><div class=\"sk-estimator sk-toggleable\"><input class=\"sk-toggleable__control sk-hidden--visually\" id=\"sk-estimator-id-2\" type=\"checkbox\" ><label for=\"sk-estimator-id-2\" class=\"sk-toggleable__label sk-toggleable__label-arrow\">LinearRegression</label><div class=\"sk-toggleable__content\"><pre>LinearRegression()</pre></div></div></div></div></div></div><div class=\"sk-parallel-item\"><div class=\"sk-item\"><div class=\"sk-label-container\"><div class=\"sk-label sk-toggleable\"><label>knn</label></div></div><div class=\"sk-serial\"><div class=\"sk-item sk-dashed-wrapped\"><div class=\"sk-parallel\"><div class=\"sk-parallel-item\"><div class=\"sk-item\"><div class=\"sk-label-container\"><div class=\"sk-label sk-toggleable\"><input class=\"sk-toggleable__control sk-hidden--visually\" id=\"sk-estimator-id-3\" type=\"checkbox\" ><label for=\"sk-estimator-id-3\" class=\"sk-toggleable__label sk-toggleable__label-arrow\">estimator: KNeighborsRegressor</label><div class=\"sk-toggleable__content\"><pre>KNeighborsRegressor()</pre></div></div></div><div class=\"sk-serial\"><div class=\"sk-item\"><div class=\"sk-estimator sk-toggleable\"><input class=\"sk-toggleable__control sk-hidden--visually\" id=\"sk-estimator-id-4\" type=\"checkbox\" ><label for=\"sk-estimator-id-4\" class=\"sk-toggleable__label sk-toggleable__label-arrow\">KNeighborsRegressor</label><div class=\"sk-toggleable__content\"><pre>KNeighborsRegressor()</pre></div></div></div></div></div></div></div></div></div></div></div><div class=\"sk-parallel-item\"><div class=\"sk-item\"><div class=\"sk-label-container\"><div class=\"sk-label sk-toggleable\"><label>svc</label></div></div><div class=\"sk-serial\"><div class=\"sk-item sk-dashed-wrapped\"><div class=\"sk-parallel\"><div class=\"sk-parallel-item\"><div class=\"sk-item\"><div class=\"sk-label-container\"><div class=\"sk-label sk-toggleable\"><input class=\"sk-toggleable__control sk-hidden--visually\" id=\"sk-estimator-id-5\" type=\"checkbox\" ><label for=\"sk-estimator-id-5\" class=\"sk-toggleable__label sk-toggleable__label-arrow\">estimator: SVR</label><div class=\"sk-toggleable__content\"><pre>SVR()</pre></div></div></div><div class=\"sk-serial\"><div class=\"sk-item\"><div class=\"sk-estimator sk-toggleable\"><input class=\"sk-toggleable__control sk-hidden--visually\" id=\"sk-estimator-id-6\" type=\"checkbox\" ><label for=\"sk-estimator-id-6\" class=\"sk-toggleable__label sk-toggleable__label-arrow\">SVR</label><div class=\"sk-toggleable__content\"><pre>SVR()</pre></div></div></div></div></div></div></div></div></div></div></div><div class=\"sk-parallel-item\"><div class=\"sk-item\"><div class=\"sk-label-container\"><div class=\"sk-label sk-toggleable\"><label>rf</label></div></div><div class=\"sk-serial\"><div class=\"sk-item sk-dashed-wrapped\"><div class=\"sk-parallel\"><div class=\"sk-parallel-item\"><div class=\"sk-item\"><div class=\"sk-label-container\"><div class=\"sk-label sk-toggleable\"><input class=\"sk-toggleable__control sk-hidden--visually\" id=\"sk-estimator-id-7\" type=\"checkbox\" ><label for=\"sk-estimator-id-7\" class=\"sk-toggleable__label sk-toggleable__label-arrow\">estimator: RandomForestRegressor</label><div class=\"sk-toggleable__content\"><pre>RandomForestRegressor()</pre></div></div></div><div class=\"sk-serial\"><div class=\"sk-item\"><div class=\"sk-estimator sk-toggleable\"><input class=\"sk-toggleable__control sk-hidden--visually\" id=\"sk-estimator-id-8\" type=\"checkbox\" ><label for=\"sk-estimator-id-8\" class=\"sk-toggleable__label sk-toggleable__label-arrow\">RandomForestRegressor</label><div class=\"sk-toggleable__content\"><pre>RandomForestRegressor()</pre></div></div></div></div></div></div></div></div></div></div></div><div class=\"sk-parallel-item\"><div class=\"sk-item\"><div class=\"sk-label-container\"><div class=\"sk-label sk-toggleable\"><label>dt</label></div></div><div class=\"sk-serial\"><div class=\"sk-item sk-dashed-wrapped\"><div class=\"sk-parallel\"><div class=\"sk-parallel-item\"><div class=\"sk-item\"><div class=\"sk-label-container\"><div class=\"sk-label sk-toggleable\"><input class=\"sk-toggleable__control sk-hidden--visually\" id=\"sk-estimator-id-9\" type=\"checkbox\" ><label for=\"sk-estimator-id-9\" class=\"sk-toggleable__label sk-toggleable__label-arrow\">estimator: DecisionTreeRegressor</label><div class=\"sk-toggleable__content\"><pre>DecisionTreeRegressor()</pre></div></div></div><div class=\"sk-serial\"><div class=\"sk-item\"><div class=\"sk-estimator sk-toggleable\"><input class=\"sk-toggleable__control sk-hidden--visually\" id=\"sk-estimator-id-10\" type=\"checkbox\" ><label for=\"sk-estimator-id-10\" class=\"sk-toggleable__label sk-toggleable__label-arrow\">DecisionTreeRegressor</label><div class=\"sk-toggleable__content\"><pre>DecisionTreeRegressor()</pre></div></div></div></div></div></div></div></div></div></div></div><div class=\"sk-parallel-item\"><div class=\"sk-item\"><div class=\"sk-label-container\"><div class=\"sk-label sk-toggleable\"><label>gbm</label></div></div><div class=\"sk-serial\"><div class=\"sk-item sk-dashed-wrapped\"><div class=\"sk-parallel\"><div class=\"sk-parallel-item\"><div class=\"sk-item\"><div class=\"sk-label-container\"><div class=\"sk-label sk-toggleable\"><input class=\"sk-toggleable__control sk-hidden--visually\" id=\"sk-estimator-id-11\" type=\"checkbox\" ><label for=\"sk-estimator-id-11\" class=\"sk-toggleable__label sk-toggleable__label-arrow\">estimator: GradientBoostingRegressor</label><div class=\"sk-toggleable__content\"><pre>GradientBoostingRegressor()</pre></div></div></div><div class=\"sk-serial\"><div class=\"sk-item\"><div class=\"sk-estimator sk-toggleable\"><input class=\"sk-toggleable__control sk-hidden--visually\" id=\"sk-estimator-id-12\" type=\"checkbox\" ><label for=\"sk-estimator-id-12\" class=\"sk-toggleable__label sk-toggleable__label-arrow\">GradientBoostingRegressor</label><div class=\"sk-toggleable__content\"><pre>GradientBoostingRegressor()</pre></div></div></div></div></div></div></div></div></div></div></div></div></div><div class=\"sk-item\"><div class=\"sk-parallel\"><div class=\"sk-parallel-item\"><div class=\"sk-item\"><div class=\"sk-label-container\"><div class=\"sk-label sk-toggleable\"><label>final_estimator</label></div></div><div class=\"sk-serial\"><div class=\"sk-item\"><div class=\"sk-estimator sk-toggleable\"><input class=\"sk-toggleable__control sk-hidden--visually\" id=\"sk-estimator-id-13\" type=\"checkbox\" ><label for=\"sk-estimator-id-13\" class=\"sk-toggleable__label sk-toggleable__label-arrow\">LinearRegression</label><div class=\"sk-toggleable__content\"><pre>LinearRegression()</pre></div></div></div></div></div></div></div></div></div></div></div></div>"
      ],
      "text/plain": [
       "StackingRegressor(cv=3,\n",
       "                  estimators=[('lr', LinearRegression()),\n",
       "                              ('knn',\n",
       "                               GridSearchCV(cv=3,\n",
       "                                            estimator=KNeighborsRegressor(),\n",
       "                                            param_grid={'n_neighbors': [20, 40,\n",
       "                                                                        60]})),\n",
       "                              ('svc',\n",
       "                               GridSearchCV(cv=3, estimator=SVR(),\n",
       "                                            param_grid={'C': [5, 8, 10],\n",
       "                                                        'kernel': ['linear',\n",
       "                                                                   'rbf']})),\n",
       "                              ('rf',\n",
       "                               GridSearchCV(cv=3,\n",
       "                                            estimator=RandomForestRegressor(),\n",
       "                                            param_grid={'max_depth': [None, 20,\n",
       "                                                                      30, 40],\n",
       "                                                        'n_estimators': [5, 10,\n",
       "                                                                         15]})),\n",
       "                              ('dt',\n",
       "                               GridSearchCV(cv=3,\n",
       "                                            estimator=DecisionTreeRegressor(),\n",
       "                                            param_grid={'max_depth': [None, 1,\n",
       "                                                                      2, 3],\n",
       "                                                        'min_samples_split': [5,\n",
       "                                                                              10,\n",
       "                                                                              15]})),\n",
       "                              ('gbm',\n",
       "                               GridSearchCV(cv=3,\n",
       "                                            estimator=GradientBoostingRegressor(),\n",
       "                                            param_grid={'learning_rate': [0.005,\n",
       "                                                                          0.01,\n",
       "                                                                          0.015],\n",
       "                                                        'max_depth': [1, 2, 3],\n",
       "                                                        'n_estimators': [50,\n",
       "                                                                         100,\n",
       "                                                                         150]}))],\n",
       "                  final_estimator=LinearRegression())"
      ]
     },
     "execution_count": 9,
     "metadata": {},
     "output_type": "execute_result"
    }
   ],
   "source": [
    "# Train the stacking model\n",
    "stacking_model.fit(X_train, y_train)\n"
   ]
  },
  {
   "cell_type": "markdown",
   "metadata": {},
   "source": [
    "### Create predictions"
   ]
  },
  {
   "cell_type": "code",
   "execution_count": 10,
   "metadata": {},
   "outputs": [],
   "source": [
    "# Make predictions on the test set\n",
    "y_pred = stacking_model.predict(X_test)\n",
    "\n",
    "# Prevent predicted values from being less than 0\n",
    "y_pred = np.maximum(y_pred, 0)"
   ]
  },
  {
   "cell_type": "markdown",
   "metadata": {},
   "source": [
    "### Evaluate the model"
   ]
  },
  {
   "cell_type": "code",
   "execution_count": 11,
   "metadata": {},
   "outputs": [
    {
     "name": "stdout",
     "output_type": "stream",
     "text": [
      "Stacking Model - Mean Squared Error: 0.72\n",
      "Stacking Model - R^2 Score: 0.15\n"
     ]
    }
   ],
   "source": [
    "# Calculate and print metrics for the stacking model\n",
    "mse = mean_squared_error(y_test, y_pred)\n",
    "r2 = r2_score(y_test, y_pred)\n",
    "\n",
    "print(f'Stacking Model - Mean Squared Error: {mse:.2f}')\n",
    "print(f'Stacking Model - R^2 Score: {r2:.2f}')"
   ]
  },
  {
   "cell_type": "markdown",
   "metadata": {},
   "source": [
    "### Visualisation of cost"
   ]
  },
  {
   "cell_type": "code",
   "execution_count": 12,
   "metadata": {},
   "outputs": [
    {
     "data": {
      "image/png": "[encoded data removed]",
      "text/plain": [
       "<Figure size 1000x600 with 1 Axes>"
      ]
     },
     "metadata": {},
     "output_type": "display_data"
    }
   ],
   "source": [
    "# Plot actual vs predicted values\n",
    "plt.figure(figsize=(10, 6))\n",
    "plt.scatter(y_test, y_pred, alpha=0.5)\n",
    "plt.xlabel('Actual')\n",
    "plt.ylabel('Predicted')\n",
    "plt.title('Actual vs Predicted Values')\n",
    "plt.show()"
   ]
  },
  {
   "cell_type": "markdown",
   "metadata": {},
   "source": [
    "### Visualisation of residuals"
   ]
  },
  {
   "cell_type": "code",
   "execution_count": 13,
   "metadata": {},
   "outputs": [
    {
     "data": {
      "image/png": "[encoded data removed]",
      "text/plain": [
       "<Figure size 1000x600 with 1 Axes>"
      ]
     },
     "metadata": {},
     "output_type": "display_data"
    }
   ],
   "source": [
    "# Plot the residuals\n",
    "plt.figure(figsize=(10, 6))\n",
    "plt.scatter(y_pred, y_test - y_pred, alpha=0.5)\n",
    "plt.axhline(0, color='red', linestyle='--')\n",
    "plt.xlabel('Predicted')\n",
    "plt.ylabel('Residuals')\n",
    "plt.title('Residuals vs Predicted Values')\n",
    "plt.show()"
   ]
  },
  {
   "cell_type": "markdown",
   "metadata": {},
   "source": [
    "### View Actual vs Predict"
   ]
  },
  {
   "cell_type": "code",
   "execution_count": 14,
   "metadata": {},
   "outputs": [
    {
     "name": "stdout",
     "output_type": "stream",
     "text": [
      "      Actual  Predicted\n",
      "4861    0.05       0.06\n",
      "548     0.02       0.05\n",
      "7741    0.00       0.00\n",
      "551     0.20       0.05\n",
      "1981    0.00       0.02\n",
      "7575    0.00       0.01\n",
      "4528    0.05       0.07\n",
      "7221    0.00       0.03\n",
      "2993    0.17       0.05\n",
      "1280    0.10       1.94\n"
     ]
    }
   ],
   "source": [
    "# Create a DataFrame for actual vs predicted values\n",
    "actual_vs_predicted_df = pd.DataFrame({\n",
    "    'Actual': y_test,\n",
    "    'Predicted': y_pred\n",
    "})\n",
    "\n",
    "# Round the values to 2 decimal places\n",
    "actual_vs_predicted_df = actual_vs_predicted_df.round(2)\n",
    "\n",
    "# Display the DataFrame\n",
    "print(actual_vs_predicted_df.head(10))"
   ]
  },
  {
   "cell_type": "markdown",
   "metadata": {},
   "source": [
    "### Make prediction on block model"
   ]
  },
  {
   "cell_type": "markdown",
   "metadata": {},
   "source": [
    "Import block model for prediction"
   ]
  },
  {
   "cell_type": "code",
   "execution_count": 15,
   "metadata": {},
   "outputs": [
    {
     "name": "stdout",
     "output_type": "stream",
     "text": [
      "          X          Y    Z  DomCode  Oxidation\n",
      "0  636605.0  6850125.0 -100        0          3\n",
      "1  636605.0  6850125.0  -98        0          3\n",
      "2  636605.0  6850125.0  -96        0          3\n",
      "3  636605.0  6850125.0  -94        0          3\n",
      "4  636605.0  6850125.0  -92        0          3\n",
      "<class 'pandas.core.frame.DataFrame'>\n",
      "RangeIndex: 598500 entries, 0 to 598499\n",
      "Data columns (total 5 columns):\n",
      " #   Column     Non-Null Count   Dtype  \n",
      "---  ------     --------------   -----  \n",
      " 0   X          598500 non-null  float64\n",
      " 1   Y          598500 non-null  float64\n",
      " 2   Z          598500 non-null  int64  \n",
      " 3   DomCode    598500 non-null  int64  \n",
      " 4   Oxidation  598500 non-null  int64  \n",
      "dtypes: float64(2), int64(3)\n",
      "memory usage: 22.8 MB\n",
      "None\n"
     ]
    }
   ],
   "source": [
    "# Import new data for prediction\n",
    "bm_file_path = r'C:\\Users\\Ton\\OneDrive\\Desktop\\Data_Institute\\_prj_capstone\\BM_26072024_mod.csv'\n",
    "bm_df = pd.read_csv(bm_file_path)\n",
    "\n",
    "print(bm_df.head())\n",
    "print(bm_df.info())"
   ]
  },
  {
   "cell_type": "code",
   "execution_count": 16,
   "metadata": {},
   "outputs": [],
   "source": [
    "# Define the preprocessing steps for numerical and categorical data\n",
    "numeric_features = ['X', 'Y', 'Z']\n",
    "categorical_features = ['DomCode', 'Oxidation']\n",
    "\n",
    "# Preprocessing for numerical data: scaling\n",
    "numeric_transformer = StandardScaler()\n",
    "\n",
    "# Preprocessing for categorical data: one-hot encoding\n",
    "categorical_transformer = OneHotEncoder()\n",
    "\n",
    "# Combine preprocessing steps\n",
    "preprocessor = ColumnTransformer(\n",
    "    transformers=[\n",
    "        ('num', numeric_transformer, numeric_features),\n",
    "        ('cat', categorical_transformer, categorical_features)\n",
    "    ]\n",
    ")\n",
    "\n",
    "# Apply the preprocessing steps to the new data\n",
    "bm_df_processed = preprocessor.fit_transform(bm_df)"
   ]
  },
  {
   "cell_type": "code",
   "execution_count": 17,
   "metadata": {},
   "outputs": [
    {
     "name": "stdout",
     "output_type": "stream",
     "text": [
      "Feature names after preprocessing: ['X', 'Y', 'Z', 'DomCode_0', 'DomCode_1', 'DomCode_2', 'DomCode_3', 'DomCode_4', 'DomCode_5', 'DomCode_6', 'DomCode_7', 'DomCode_8', 'DomCode_9', 'DomCode_10', 'DomCode_11', 'DomCode_12', 'DomCode_13', 'DomCode_14', 'Oxidation_1', 'Oxidation_2', 'Oxidation_3']\n"
     ]
    }
   ],
   "source": [
    "# Check the feature names and their order after preprocessing\n",
    "preprocessor.fit(bm_df)\n",
    "feature_names = numeric_features + list(preprocessor.named_transformers_['cat'].get_feature_names_out(categorical_features))\n",
    "print(\"Feature names after preprocessing:\", feature_names)"
   ]
  },
  {
   "cell_type": "markdown",
   "metadata": {},
   "source": [
    "Making prediction"
   ]
  },
  {
   "cell_type": "code",
   "execution_count": 18,
   "metadata": {},
   "outputs": [
    {
     "name": "stdout",
     "output_type": "stream",
     "text": [
      "[0.02 0.02 0.02 0.02 0.02 0.02 0.03 0.03 0.03 0.03 0.03 0.03 0.03 0.03\n",
      " 0.03 0.03 0.03 0.04 0.04 0.04 0.04 0.03 0.03 0.04 0.04 0.04 0.04 0.04\n",
      " 0.04 0.04 0.04 0.04 0.04 0.04 0.04 0.04 0.04 0.05 0.05 0.04 0.04 0.05\n",
      " 0.05 0.05 0.05 0.05 0.05 0.05 0.05 0.05 0.05 0.05 0.05 0.05 0.05 0.05\n",
      " 0.05 0.05 0.05 0.05 0.05 0.05 0.05 0.05 0.05 0.05 0.05 0.05 0.05 0.05\n",
      " 0.05 0.06 0.06 0.06 0.07 0.07 0.07 0.07 0.08 0.08 0.08 0.08 0.08 0.08\n",
      " 0.08 0.08 0.08 0.08 0.08 0.08 0.08 0.08 0.09 0.09 0.09 0.09 0.09 0.09\n",
      " 0.09 0.09]\n"
     ]
    }
   ],
   "source": [
    "# Make predictions on block model\n",
    "bm_pred = stacking_model.predict(bm_df_processed).round(2)\n",
    "\n",
    "# Adjust predictions: if bm_pred < 0, set it to 0\n",
    "bm_pred = np.where(bm_pred < 0, 0, bm_pred)\n",
    "\n",
    "# Output predictions (first 100 predictions)\n",
    "print(bm_pred[:100])"
   ]
  },
  {
   "cell_type": "markdown",
   "metadata": {},
   "source": [
    "Combine with the original block model"
   ]
  },
  {
   "cell_type": "code",
   "execution_count": 19,
   "metadata": {},
   "outputs": [
    {
     "name": "stderr",
     "output_type": "stream",
     "text": [
      "C:\\Users\\Ton\\AppData\\Local\\Temp\\ipykernel_8904\\4102301976.py:3: DtypeWarning: Columns (5) have mixed types. Specify dtype option on import or set low_memory=False.\n",
      "  bm_original_df = pd.read_csv(bm_original_file_path)\n"
     ]
    }
   ],
   "source": [
    "# Import original block model\n",
    "bm_original_file_path = r'C:\\Users\\Ton\\OneDrive\\Desktop\\Data_Institute\\_prj_capstone\\BM_26072024.csv'\n",
    "bm_original_df = pd.read_csv(bm_original_file_path)"
   ]
  },
  {
   "cell_type": "code",
   "execution_count": 20,
   "metadata": {},
   "outputs": [
    {
     "name": "stdout",
     "output_type": "stream",
     "text": [
      "          X          Y    Z  Dykes  Density domain  domcode  Au_ppm_KR  \\\n",
      "0  581050.0  6294570.0 -100      0   2810.0    NaN      NaN        NaN   \n",
      "1  581050.0  6294570.0  -98      0   2810.0    NaN      NaN        NaN   \n",
      "2  581050.0  6294570.0  -96      0   2810.0    NaN      NaN        NaN   \n",
      "3  581050.0  6294570.0  -94      0   2810.0    NaN      NaN        NaN   \n",
      "4  581050.0  6294570.0  -92      0   2810.0    NaN      NaN        NaN   \n",
      "\n",
      "   Oretype  RESCLASS  Below_Topo  Au_pmm_ML  \n",
      "0      130       NaN           1       0.02  \n",
      "1      130       NaN           1       0.02  \n",
      "2      130       NaN           1       0.02  \n",
      "3      130       NaN           1       0.02  \n",
      "4      130       NaN           1       0.02  \n"
     ]
    }
   ],
   "source": [
    "# Add bm_pred as a new column to bm_original_df\n",
    "bm_combined = bm_original_df\n",
    "bm_combined['Au_pmm_ML'] = bm_pred\n",
    "\n",
    "print(bm_combined.head())"
   ]
  },
  {
   "cell_type": "markdown",
   "metadata": {},
   "source": [
    "Update Au_pmm_ML with Topo and Dykes\n",
    "- If Below_Topo is 0, set Au_pmm_ML to 0 (indicating air).\n",
    "- If Dykes is 1, set Au_pmm_ML to 0 (indicating a dyke)."
   ]
  },
  {
   "cell_type": "code",
   "execution_count": 21,
   "metadata": {},
   "outputs": [],
   "source": [
    "# Apply conditions to update Au_pmm_ML based on Topo and Dykes\n",
    "bm_combined.loc[bm_combined['Below_Topo'] == 0, 'Au_pmm_ML'] = 0\n",
    "bm_combined.loc[bm_combined['Dykes'] == 1, 'Au_pmm_ML'] = 0"
   ]
  },
  {
   "cell_type": "markdown",
   "metadata": {},
   "source": [
    "Save updated dataframe to a new CSV file"
   ]
  },
  {
   "cell_type": "code",
   "execution_count": 22,
   "metadata": {},
   "outputs": [
    {
     "name": "stdout",
     "output_type": "stream",
     "text": [
      "Updated dataframe saved successfully.\n"
     ]
    }
   ],
   "source": [
    "# Save the updated dataframe to a new CSV file if needed\n",
    "bm_combined.to_csv(r'C:\\Users\\Ton\\OneDrive\\Desktop\\Data_Institute\\_prj_capstone\\BM_26072024_updated.csv', index=False)\n",
    "print(\"Updated dataframe saved successfully.\")"
   ]
  }
 ],
 "metadata": {
  "kernelspec": {
   "display_name": "base",
   "language": "python",
   "name": "python3"
  },
  "language_info": {
   "codemirror_mode": {
    "name": "ipython",
    "version": 3
   },
   "file_extension": ".py",
   "mimetype": "text/x-python",
   "name": "python",
   "nbconvert_exporter": "python",
   "pygments_lexer": "ipython3",
   "version": "3.11.7"
  }
 },
 "nbformat": 4,
 "nbformat_minor": 2
}
